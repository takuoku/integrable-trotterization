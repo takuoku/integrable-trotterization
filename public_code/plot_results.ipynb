{
  "cells": [
    {
      "cell_type": "markdown",
      "metadata": {
        "id": "-o-RpLqkkVW_"
      },
      "source": [
        "The aim is to plot noisy classical simulation results."
      ]
    },
    {
      "cell_type": "code",
      "execution_count": 22,
      "metadata": {
        "id": "nTCE0cES1zXB"
      },
      "outputs": [],
      "source": [
        "import numpy as np\n",
        "import matplotlib.pyplot as plt\n",
        "import sys\n",
        "import os\n",
        "if \"PLOT_MATERIAL\" not in os.listdir():\n",
        "  %mkdir \"PLOT_MATERIAL\""
      ]
    },
    {
      "cell_type": "markdown",
      "metadata": {
        "id": "Ze5pSc_3sqbW"
      },
      "source": [
        "Retrieve simulation results\n",
        "\n"
      ]
    },
    {
      "cell_type": "code",
      "execution_count": 23,
      "metadata": {
        "id": "dCyiPNG17m5j"
      },
      "outputs": [],
      "source": [
        "dir = '../result/'\n",
        "data_names = ['4_sites','6_sites','8_sites','10_sites','12_sites']\n",
        "#dir_names = ['0720_1434_okuda','0720_1357_okuda','0720_0850_okuda','0724_2034_okuda','0715_1644_okuda']\n",
        "dir_names = ['0720_0838_okuda','0719_1707_okuda','0719_1634_okuda','0713_1219_okuda','0712_1748_okuda']\n",
        "result_dirs = [dir+'/'+dir_names[0],dir+'/'+dir_names[1],dir+'/'+dir_names[2],dir+'/'+dir_names[3],dir+'/'+dir_names[4]]\n",
        "for j in range(len(data_names)):\n",
        "  if result_dirs[j] not in sys.path:\n",
        "    sys.path.append(result_dirs[j])  "
      ]
    },
    {
      "cell_type": "code",
      "execution_count": 24,
      "metadata": {
        "colab": {
          "base_uri": "https://localhost:8080/"
        },
        "id": "SAdSth4dl2Ey",
        "outputId": "00aabed2-b557-4a57-c4c5-7547c64ccce2"
      },
      "outputs": [
        {
          "name": "stdout",
          "output_type": "stream",
          "text": [
            "j = 0\n",
            "j = 1\n",
            "j = 2\n",
            "j = 3\n",
            "j = 4\n"
          ]
        }
      ],
      "source": [
        "def is_number(st):\n",
        "  try:\n",
        "    float(st)\n",
        "    return True\n",
        "  except ValueError:\n",
        "    return False\n",
        "        \n",
        "para_dic_list = [{} for each in data_names] \n",
        "for j in range(len(data_names)):\n",
        "  print(\"j =\",j)\n",
        "  with open('{}/{}'.format(result_dirs[j],'config.txt'),'r') as f1:\n",
        "    content = f1.readlines()\n",
        "  with open('./PLOT_MATERIAL/config_{}.py'.format(data_names[j]),'w') as f2:\n",
        "    for i in range(2):\n",
        "      pass\n",
        "    for i in range(len(content)-5):\n",
        "      line_as_list = content[2+i].split()\n",
        "      if line_as_list[1] == \"=\":\n",
        "        s = \"\"\n",
        "        for k in range(2,len(line_as_list)):\n",
        "          s = s + line_as_list[k]\n",
        "        para_dic_list[j].update({line_as_list[0]:s}) \n",
        "      else:\n",
        "        s = \"\"\n",
        "        for k in range(1,len(line_as_list)):\n",
        "          s = s + line_as_list[k]\n",
        "        para_dic_list[j].update({line_as_list[0]:s})\n",
        "      f2.write(line_as_list[0]+\" = \")\n",
        "      for each in line_as_list[2:]:\n",
        "        if is_number(each) or each[0]=='[' or each[-1]==']' or each=='True' or each=='False' or each[-1]==',':\n",
        "          f2.write(each)\n",
        "        else:\n",
        "          f2.write('\\'')\n",
        "          f2.write(each)\n",
        "          f2.write('\\'')\n",
        "        f2.write(' ')\n",
        "      f2.write('\\n')"
      ]
    },
    {
      "cell_type": "code",
      "execution_count": 25,
      "metadata": {
        "colab": {
          "base_uri": "https://localhost:8080/"
        },
        "id": "YTS3hqYgvSYc",
        "outputId": "dd32bc5b-7d89-49a6-fcec-d864ed86aba8"
      },
      "outputs": [
        {
          "name": "stdout",
          "output_type": "stream",
          "text": [
            "Different parameters:\n",
            "\n",
            "site :  ['4', '6', '8', '10', '12']\n",
            "initial_layout :  ['[12,13,14,16]', '[12,13,14,16,19,22]', '[12,13,14,16,19,22,25,24]', '[12,13,14,16,19,22,25,24,23,21]', '[12,13,14,16,19,22,25,24,23,21,18,15]']\n"
          ]
        }
      ],
      "source": [
        "print(\"Different parameters:\\n\")\n",
        "for each in para_dic_list[0].keys():\n",
        "  equality = True\n",
        "  for j in range(1,len(data_names)):\n",
        "    if each not in para_dic_list[j].keys():\n",
        "      equality = False\n",
        "      para_dic_list[j].update({each:'None'})\n",
        "    if para_dic_list[0][each] != para_dic_list[j][each]:\n",
        "      equality = False\n",
        "  if equality == False:\n",
        "    print(each,\": \",[para_dic_list[j][each] for j in range(len(data_names))])"
      ]
    },
    {
      "cell_type": "code",
      "execution_count": 26,
      "metadata": {},
      "outputs": [],
      "source": [
        "def pauliopexp(pauliop,ini_st):\n",
        "  exp = 1\n",
        "  for position in range(len(pauliop)):\n",
        "    if pauliop[position] == ini_st[position][1]:\n",
        "        exp *= (-1)**ini_st[position][0]\n",
        "    if pauliop[position] == \"I\": \n",
        "        continue\n",
        "    if pauliop[position] != \"I\" and pauliop[position] != ini_st[position][1]:\n",
        "        exp = 0\n",
        "        break\n",
        "  return exp "
      ]
    },
    {
      "cell_type": "code",
      "execution_count": 27,
      "metadata": {
        "colab": {
          "base_uri": "https://localhost:8080/"
        },
        "id": "NO-kzPXOLXNW",
        "outputId": "c21a36ee-4043-49cc-ba95-9273871c6fd1"
      },
      "outputs": [
        {
          "name": "stdout",
          "output_type": "stream",
          "text": [
            "j = 0\n",
            "j = 1\n",
            "j = 2\n",
            "j = 3\n",
            "j = 4\n",
            "ans_exact_list = [-3.808622169354906, -5.712933254032357, -7.61724433870981, -9.521555423387262, -11.425866508064715]\n"
          ]
        }
      ],
      "source": [
        "if './SCRIPT' not in sys.path: sys.path.append('./SCRIPT')\n",
        "ans_lists = [[] for each in data_names]\n",
        "ans_exact_list = []\n",
        "stat_unc_lists = [[] for each in data_names]\n",
        "for j in range(len(data_names)):\n",
        "  print(\"j =\",j)\n",
        "  g = open('../result/.current_result_dir.txt', 'w')\n",
        "  g.write('{}'.format(result_dirs[j]))\n",
        "  g.close()\n",
        "  %cp './PLOT_MATERIAL/config_{data_names[j]}.py' './GENERATED/parameters.py'\n",
        "  ! python3 ./SCRIPT/get_coef.py\n",
        "  with open('./GENERATED/coefficients.dat') as f:\n",
        "    original = f.readlines()\n",
        "  \n",
        "  if para_dic_list[j]['initial_state'] == 'Neel':\n",
        "        ini_st = [[(k+1)%2,'Z'] for k in range(int(para_dic_list[j]['site']))]\n",
        "  if para_dic_list[j]['initial_state'] == 'file':  \n",
        "        with open('{}/initial_state.txt'.format(result_dirs[j]),'r') as g:\n",
        "            bit_string = g.readline().split()\n",
        "            pauli_string = g.readline().split()\n",
        "        ini_st = [ [ int(bit_string[k]), pauli_string[k] ] for k in range(int(para_dic_list[j]['site'])) ]\n",
        "\n",
        "  for i in range(int(para_dic_list[0]['step_initial']),int(para_dic_list[j]['trotter_step'])+1):\n",
        "    ans = 0\n",
        "    g = open('{}/LOCAL_OBS/local_obs_res_{}.txt'.format(result_dirs[j],i), 'r')\n",
        "    result = g.readlines()\n",
        "    g.close()\n",
        "    ans_exact = 0\n",
        "    for k in range(len(original)):\n",
        "        degree, coeff, pauliop = original[k].split()\n",
        "        res = float(result[k])\n",
        "        degree = int(degree)\n",
        "        coeff = int(coeff)\n",
        "        ans += res * (float(para_dic_list[j]['delta']) ** degree) * coeff\n",
        "        ans_exact += pauliopexp(pauliop,ini_st) * (float(para_dic_list[j]['delta']) ** degree) * coeff\n",
        "    ans_lists[j].append(ans)\n",
        "    if i == 0:\n",
        "      ans_exact_list.append(ans_exact)\n",
        "\n",
        "print(\"ans_exact_list =\",ans_exact_list)  "
      ]
    },
    {
      "cell_type": "code",
      "execution_count": 28,
      "metadata": {
        "colab": {
          "base_uri": "https://localhost:8080/"
        },
        "id": "enkqze-hYCKy",
        "outputId": "247ec3ff-2cbb-4713-b0be-827c0eb4fac3"
      },
      "outputs": [
        {
          "name": "stdout",
          "output_type": "stream",
          "text": [
            "j = 0\n",
            "[-3.702344354647307, -3.1766818584842085, -3.118580166169983, -2.910905377020216, -2.445156150634905, -2.196504312376021, -1.7450186246741133, -1.4983822150245674, -1.2723244171375476, -0.8279045159680747, -0.5192382466622297, -0.5680178592560725, -0.5802061314121258, -0.42306619216192126, -0.366762463006229, -0.18068846997213336]\n",
            "j = 1\n",
            "[-5.537140356809043, -4.5037829814155215, -4.474176868659179, -4.0034007534827545, -3.1170546302513356, -2.3607444135697295, -1.960511205165436, -1.3319975008955185, -0.8537488732357216, -0.7528343154690371, -0.5072058798093296, -0.5477257948779055, -0.305055048397399, -0.23297289296395482, -0.2774091757828118, -0.07873579090217281]\n",
            "j = 2\n",
            "[-7.386864961005725, -5.555913572703818, -4.9948942090030135, -2.926531487152688, -1.4889774110168947, -1.243188802834565, -0.724439740205489, -0.5241330871439608, -0.2374595058639123, -0.26825043696377604, -0.006513234990961339, -0.06549120547734655, -0.07614386321515196, 0.10543115328559483, 0.0847660410776675, 0.07778210294798893]\n",
            "j = 3\n",
            "[-9.166087859251707, -7.395500249837002, -4.905786963186701, -3.6332621357378665, -2.7631425751456056, -1.9062256517482263, -0.8885158087930094, -1.0418536245363483, -0.61031961910836, -0.5973069448166382, -0.25124080387277903, -0.37128612988662074, 0.02324769704386761, -0.0624292903935523, 0.052839246881744475, 0.1092883054653499]\n",
            "j = 4\n",
            "[-11.035148750540941, -8.82830794390188, -8.071903566978097, -6.741901227896494, -5.584217445493516, -4.746171641439756, -4.028688324938983, -3.1233879807846434, -2.5344379985136047, -2.0707776019448523, -1.9307008133023442, -1.5709467957166552, -1.461678500851668, -1.0916628804349218, -1.1012216434676665, -0.8583880540377498]\n"
          ]
        }
      ],
      "source": [
        "#%%script false \n",
        "for j in range(len(data_names)):\n",
        "  print(\"j =\",j)\n",
        "  print(ans_lists[j])"
      ]
    },
    {
      "cell_type": "markdown",
      "metadata": {
        "id": "aJQHznxjPvuX"
      },
      "source": [
        "Fit and plot"
      ]
    },
    {
      "cell_type": "code",
      "execution_count": 31,
      "metadata": {
        "colab": {
          "base_uri": "https://localhost:8080/",
          "height": 861
        },
        "id": "ft3exD1too7j",
        "outputId": "07c53e35-5f8a-401d-97bc-06afa6be2d5c"
      },
      "outputs": [
        {
          "name": "stdout",
          "output_type": "stream",
          "text": [
            "steps = range(0, 16)\n",
            "j = 0\n",
            "len(vals) = 16\n",
            "ans_exact_list[j] = -3.808622169354906\n",
            "ans_exact_list[j]/cs[j] = -7.617244338709812\n",
            "j = 1\n",
            "len(vals) = 16\n",
            "ans_exact_list[j] = -5.712933254032357\n",
            "ans_exact_list[j]/cs[j] = -5.712933254032357\n",
            "j = 2\n",
            "len(vals) = 16\n",
            "ans_exact_list[j] = -7.61724433870981\n",
            "ans_exact_list[j]/cs[j] = -3.808622169354905\n",
            "j = 3\n",
            "len(vals) = 16\n",
            "ans_exact_list[j] = -9.521555423387262\n",
            "ans_exact_list[j]/cs[j] = -5.289753012992923\n",
            "j = 4\n",
            "len(vals) = 16\n",
            "ans_exact_list[j] = -11.425866508064715\n",
            "ans_exact_list[j]/cs[j] = -7.141166567540447\n",
            "./PLOT_MATERIAL/0720_0838_okuda_0719_1707_okuda_0719_1634_okuda_0713_1219_okuda_0712_1748_okuda.pdf\n",
            "Thu Jul 28 23:45:27 JST 2022\n"
          ]
        },
        {
          "data": {
            "image/png": "[encoded data removed]",
            "text/plain": [
              "<Figure size 368.64x276.48 with 1 Axes>"
            ]
          },
          "metadata": {
            "needs_background": "light"
          },
          "output_type": "display_data"
        }
      ],
      "source": [
        "import scipy.optimize\n",
        "from scipy.optimize import curve_fit,leastsq\n",
        "\n",
        "###  Adjust colors, labels, markers, and ylabel according to your choice\n",
        "colors = ['tab:blue','tab:orange','tab:green','tab:red','tab:purple']\n",
        "#cs = [1.5,1.1,2,2,1.6]\n",
        "cs = [0.5,1,2,1.8,1.6]\n",
        "labels =  [f'4 sites, $C={cs[0]}$',f'6 sites, $C={cs[1]}$',f'8 sites, $C={cs[2]}$',f'10 sites, $C={cs[3]}$',f'12 sites, $C={cs[4]}$']\n",
        "markers = [\"o\",\"s\",\"^\",\"v\",\"*\"]\n",
        "ylabel = r\"$ \\langle Q\\rangle/C$\" \n",
        "sign_overall = +1\n",
        "\n",
        "steps =  range(int(para_dic_list[0]['step_initial']),int(para_dic_list[0]['trotter_step'])+1)\n",
        "print(\"steps =\",steps)\n",
        "def exp_func(step, v0, rate, shift):\n",
        "  return v0 * np.exp(-rate * step) + shift\n",
        "\n",
        "def sign_st(value):\n",
        "  if np.sign(value) == +1: return \"+\"\n",
        "  if np.sign(value) == -1: return \"-\"\n",
        "  else: return \"0\"\n",
        "\n",
        "for j in range(0,len(data_names)):\n",
        "  print(\"j =\",j)\n",
        "  vals = sign_overall* np.array(ans_lists[j])\n",
        "  print(\"len(vals) =\",len(vals))\n",
        "  unc_array = sign_overall*np.array(stat_unc_lists[j])\n",
        "\n",
        "  ### Plot\n",
        "  plt.plot(steps[:10],vals[:10]/cs[j],color=colors[j], marker=markers[j],label=labels[j],linestyle=\"none\")\n",
        "\n",
        "  ### Draw a horizontal line\n",
        "\n",
        "  plt.axhline(y = ans_exact_list[j]/cs[j], color = colors[j], linestyle = ':',linewidth=1)\n",
        "  print(\"ans_exact_list[j] =\",ans_exact_list[j])\n",
        "  print(\"ans_exact_list[j]/cs[j] =\",ans_exact_list[j]/cs[j])\n",
        "\n",
        "\n",
        "plt.axhline(y = 0, color = 'black' , linestyle = 'dashed',linewidth=1)\n",
        "plt.xlabel(r\"Trotter step $d$\")\n",
        "plt.ylabel(ylabel)\n",
        "\n",
        "file_name = ''\n",
        "for j in range(len(data_names)):\n",
        "  file_name += dir_names[j]\n",
        "  file_name += \"_\"\n",
        "\n",
        "plt.legend(loc = (0.58,0.02))\n",
        "fig = plt.gcf()\n",
        "fig.set_size_inches(0.8*6.4,0.8*4.8)\n",
        "file_name_full = '{}/{}.pdf'.format('./PLOT_MATERIAL',file_name[:-1])\n",
        "print(file_name_full)\n",
        "plt.savefig(file_name_full)\n",
        "!date "
      ]
    },
    {
      "cell_type": "code",
      "execution_count": null,
      "metadata": {},
      "outputs": [],
      "source": []
    }
  ],
  "metadata": {
    "colab": {
      "background_execution": "on",
      "collapsed_sections": [],
      "machine_shape": "hm",
      "name": "make_plot_2022-07-28_IBM_Q1dif_A.ipynb",
      "provenance": []
    },
    "gpuClass": "standard",
    "kernelspec": {
      "display_name": "Python 3.8.13 ('q_sim_int')",
      "language": "python",
      "name": "python3"
    },
    "language_info": {
      "codemirror_mode": {
        "name": "ipython",
        "version": 3
      },
      "file_extension": ".py",
      "mimetype": "text/x-python",
      "name": "python",
      "nbconvert_exporter": "python",
      "pygments_lexer": "ipython3",
      "version": "3.8.13"
    },
    "vscode": {
      "interpreter": {
        "hash": "4b6858a5f994e1efbf83b90610742ed27e9cc54351161a559930d0e81e61f495"
      }
    }
  },
  "nbformat": 4,
  "nbformat_minor": 0
}
