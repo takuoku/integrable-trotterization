{
 "cells": [
  {
   "cell_type": "markdown",
   "id": "ba2a7459",
   "metadata": {},
   "source": [
    "# Qiskit code for computing the vev of conserved charges\n",
    "\n",
    "This code supports three types of simulation:\n",
    "- noiseless simulation  \n",
    "- noisy simulation  \n",
    "- simulation with mocking device with readout error mitigation  \n",
    "\n",
    "To execute this code, one should put the data file for the charge densities in the folder ./MEAS_MATERIAL.\n",
    "\n",
    "For the simulation on 6 site, for Neel state, with 10,000 shots and 5 Trotter steps,\n",
    "- it takes ~20 seconds for Q1+ with AerSimulator  \n",
    "- it takes ~6 minutes for Q2+ with AerSimulator  \n",
    "- it takes ~90 seconds for Q1+ with FakeGuadalupe  \n",
    "- it takes ~12 minutes for Q2+ with FakeGuadalupe  \n",
    "\n",
    "For the simulation on 6 site, for Neel state, with 100,000 shots and 5 Trotter steps,\n",
    "- it takes ~90 seconds for Q1+ with AerSimulator  \n",
    "- it takes ~13 minutes for Q2+ with AerSimulator  \n",
    "\n",
    "We used Using 2.9 GHz 6-Core Intel Core i9."
   ]
  },
  {
   "cell_type": "code",
   "execution_count": 1,
   "id": "47e21f6f",
   "metadata": {},
   "outputs": [],
   "source": [
    "## check qiskit version\n",
    "# !python3 -m pip show qiskit"
   ]
  },
  {
   "cell_type": "code",
   "execution_count": 2,
   "id": "550ce3a9",
   "metadata": {},
   "outputs": [
    {
     "name": "stdout",
     "output_type": "stream",
     "text": [
      "2022-07-27 03:18:43.287429\n"
     ]
    }
   ],
   "source": [
    "## import libraries\n",
    "from qiskit import *\n",
    "\n",
    "from qiskit.circuit import Parameter\n",
    "from qiskit.providers.aer import AerSimulator\n",
    "from qiskit.providers.aer.noise import *\n",
    "from qiskit.test.mock import FakeGuadalupe  # import appropriate mocking devices\n",
    "from qiskit.tools.visualization import plot_histogram\n",
    "from qiskit.utils.mitigation import (complete_meas_cal,CompleteMeasFitter)\n",
    "from qiskit.visualization import plot_histogram\n",
    "\n",
    "from math import tan\n",
    "import matplotlib.pyplot as plt\n",
    "import datetime, os, re\n",
    "import numpy as np\n",
    "\n",
    "## time stamp\n",
    "dt1=datetime.datetime.now()\n",
    "dt_now=datetime.datetime.now().strftime('%m%d_%H%M_%S')\n",
    "print(dt1)"
   ]
  },
  {
   "cell_type": "markdown",
   "id": "5fb29c29",
   "metadata": {},
   "source": [
    "## Configuration and Parameters"
   ]
  },
  {
   "cell_type": "code",
   "execution_count": 3,
   "id": "37bc287a",
   "metadata": {},
   "outputs": [],
   "source": [
    "site_num = 6\n",
    "alpha_param = 0.3\n",
    "trotter_step = 5\n",
    "shot = 100000\n",
    "\n",
    "initial_state = 'Neel'  #Neel' or 'all_zero' \n",
    "degree_of_charge_density = 2  # 1 or 2\n",
    "\n",
    "using_mocking_simulator = False\n",
    "measurement_error_mitigation = False\n",
    "name_mock_backend = 'FakeGuadalupe()'\n",
    "optimization_level = 1  # 0 to 3\n",
    "\n",
    "noise_model_type = 'None' #'None' depo' or 'damp\n",
    "basis_gates = ['u1', 'u2', 'u3', 'cx'] \n",
    "q1_depo_rate = 0.0\n",
    "q2_depo_rate = 0.001\n",
    "amp_damp_rate = 0.018\n",
    "phase_damp_rate = 0.018"
   ]
  },
  {
   "cell_type": "code",
   "execution_count": 4,
   "id": "9a57eaf1",
   "metadata": {},
   "outputs": [],
   "source": [
    "## Consistency check\n",
    "if site_num < 2*degree_of_charge_density+1:\n",
    "    print(\"Warning! charge degree is too large\")\n",
    "    exit()\n",
    "\n",
    "if measurement_error_mitigation and not using_mocking_simulator:\n",
    "    print('Warning: error mitigation incompatible with simulator\\n')\n",
    "    exit()"
   ]
  },
  {
   "cell_type": "markdown",
   "id": "e61a9a6d",
   "metadata": {},
   "source": [
    "## Observable\n",
    "Input data is the charge density. We need to sum over its spatial coordinate by shifting the indices"
   ]
  },
  {
   "cell_type": "code",
   "execution_count": 5,
   "id": "cecbb841",
   "metadata": {},
   "outputs": [],
   "source": [
    "### Read the file corresponding to the observable to be measured\n",
    "if degree_of_charge_density == 1:\n",
    "    g = open('MEAS_MATERIAL/q1_plus_coefficients.dat', 'r')\n",
    "elif degree_of_charge_density == 2:\n",
    "    g = open('MEAS_MATERIAL/q2_plus_coefficients.dat', 'r')\n",
    "else:\n",
    "    print(\"No such file\")\n",
    "meas_list = list(g.readlines())\n",
    "g.close()"
   ]
  },
  {
   "cell_type": "markdown",
   "id": "015a290b",
   "metadata": {},
   "source": [
    "## Noise model and Backend"
   ]
  },
  {
   "cell_type": "code",
   "execution_count": 6,
   "id": "bc0a60ed",
   "metadata": {},
   "outputs": [],
   "source": [
    "def generate_noise_model(site):\n",
    "    ### Defining the Noise Model\n",
    "    if noise_model_type == 'depo':\n",
    "        error_depo1 = depolarizing_error(q1_depo_rate, 1)\n",
    "        error_depo2 = depolarizing_error(q2_depo_rate, 2)\n",
    "    elif noise_model_type == 'damp':\n",
    "        error_damp = phase_amplitude_damping_error(amp_damp_rate, phase_damp_rate)\n",
    "\n",
    "    ### Add errors to noise model\n",
    "    if noise_model_type == 'depo':\n",
    "        noise_model = NoiseModel(basis_gates=basis_gates)\n",
    "        noise_model.add_all_qubit_quantum_error(error_depo1, [\"u1\", \"u2\", \"u3\"])\n",
    "        noise_model.add_all_qubit_quantum_error(error_depo2, [\"cx\"])\n",
    "    elif noise_model_type == 'damp':\n",
    "        noise_model = NoiseModel(basis_gates=basis_gates)\n",
    "        noise_model.add_all_qubit_quantum_error(error_damp.tensor(error_damp), [\"cx\"])\n",
    "\n",
    "    print(noise_model)\n",
    "    return AerSimulator(noise_model=noise_model)"
   ]
  },
  {
   "cell_type": "code",
   "execution_count": 7,
   "id": "6a7859eb",
   "metadata": {},
   "outputs": [],
   "source": [
    "### Define backend device\n",
    "if using_mocking_simulator:\n",
    "    mssg=\"mock_backend=\"+name_mock_backend\n",
    "    exec(mssg)\n",
    "    device = mock_backend\n",
    "elif not noise_model_type == 'None':\n",
    "    device = generate_noise_model(site_num)  \n",
    "else:\n",
    "    device = Aer.get_backend('qasm_simulator')"
   ]
  },
  {
   "cell_type": "markdown",
   "id": "55c823df",
   "metadata": {},
   "source": [
    "## Filter for the measurement error mitigation"
   ]
  },
  {
   "cell_type": "code",
   "execution_count": 8,
   "id": "4cd5d822",
   "metadata": {},
   "outputs": [],
   "source": [
    "def generate_meas_filter(site, mock_backend, shot=10000):\n",
    "    qr_mem = QuantumRegister(site)\n",
    "    meas_calibs, state_labels = complete_meas_cal(qr=qr_mem, circlabel='mcal')\n",
    "    job = execute(meas_calibs, backend=mock_backend, shots=shot)\n",
    "    cal_results = job.result()\n",
    "    meas_fitter = CompleteMeasFitter(cal_results, state_labels, circlabel='mcal')\n",
    "    meas_filter = meas_fitter.filter\n",
    "    return meas_filter\n",
    "\n",
    "if measurement_error_mitigation:\n",
    "    meas_filter = generate_meas_filter(site_num, mock_backend)"
   ]
  },
  {
   "cell_type": "markdown",
   "id": "a625abd5",
   "metadata": {},
   "source": [
    "## R-matrix with parameter $\\alpha$"
   ]
  },
  {
   "cell_type": "code",
   "execution_count": 9,
   "id": "435c92d9",
   "metadata": {},
   "outputs": [
    {
     "data": {
      "image/png": "[encoded data removed]",
      "text/plain": [
       "<Figure size 507.852x144.48 with 1 Axes>"
      ]
     },
     "execution_count": 9,
     "metadata": {},
     "output_type": "execute_result"
    }
   ],
   "source": [
    "R = QuantumCircuit(2, name='R')\n",
    "\n",
    "R.cx(0,1)\n",
    "R.h(0)\n",
    "R.cx(0,1)\n",
    "R.rz(-alpha_param, 0)\n",
    "R.rz(alpha_param, 1)\n",
    "R.cx(0,1)\n",
    "R.h(0)\n",
    "R.rz(-alpha_param, 1)\n",
    "R.cx(0,1)\n",
    "\n",
    "R.draw('mpl')"
   ]
  },
  {
   "cell_type": "markdown",
   "id": "5d7482fa",
   "metadata": {},
   "source": [
    "## Trotter time evolution"
   ]
  },
  {
   "cell_type": "code",
   "execution_count": 10,
   "id": "cf8f8e21",
   "metadata": {},
   "outputs": [
    {
     "name": "stdout",
     "output_type": "stream",
     "text": [
      "d=0 5.580234061543674\n",
      "d=1 5.5562201347208955\n",
      "d=2 5.578547975242382\n",
      "d=3 5.558099603301703\n",
      "d=4 5.618296287694478\n",
      "d=5 5.5917653870696995\n"
     ]
    }
   ],
   "source": [
    "###     Main Circuit\n",
    "delta = tan(alpha_param)\n",
    "interaction = 2*degree_of_charge_density+1\n",
    "ans_list = []\n",
    "\n",
    "for step in range(trotter_step+1):\n",
    "    charge_dens_list = []\n",
    "    \n",
    "    for spatial in range(site_num//2):\n",
    "        charge_dens_meas = 0.0\n",
    "        \n",
    "        # spatial coordinate of the charge density\n",
    "        target = [(2*spatial+x)%site_num for x in range(interaction)]\n",
    "\n",
    "        for meas in meas_list:\n",
    "            # Density data\n",
    "            ind, coef, prod = re.split(r'\\t+', meas.rstrip('\\n'))\n",
    "            ind = int(ind)\n",
    "            coef = int(coef)\n",
    "\n",
    "            qr = QuantumRegister(site_num, name='qr')\n",
    "            cr = ClassicalRegister(site_num, name='cr')\n",
    "            qc = QuantumCircuit(qr,cr, name='qc')  \n",
    "\n",
    "            # Initial State\n",
    "            if initial_state == 'Neel':\n",
    "                for l in range(0, site_num, 2):\n",
    "                    qc.x(l)\n",
    "\n",
    "            # Evolution\n",
    "            for _ in range(step):\n",
    "                for i in range(0,site_num,2):\n",
    "                    qc.append(R.to_instruction(), [qr[i], qr[i+1]])\n",
    "                for i in range(0,site_num,2):\n",
    "                    qc.append(R.to_instruction(), [qr[i+1], qr[(i+2)%site_num]])\n",
    "\n",
    "            for i in range(0,interaction):\n",
    "                if prod[i] == 'X':\n",
    "                    qc.h(target[i])\n",
    "                elif prod[i] == 'Y':\n",
    "                    qc.sdg(target[i])\n",
    "                    qc.h(target[i])\n",
    "            \n",
    "            qc.measure(qr,cr[::-1])\n",
    "            job = execute(qc, backend=device, shots=shot, optimization_level=optimization_level)\n",
    "            result = job.result()\n",
    "            if measurement_error_mitigation:\n",
    "                result = meas_filter.apply(result)\n",
    "            counts = result.get_counts(qc)\n",
    "\n",
    "            meas_ans = 0.0\n",
    "            for b, counts_b in counts.items():\n",
    "                meas_res = 1.0\n",
    "                for i in range(interaction):\n",
    "                    if prod[i] != 'I':\n",
    "                        meas_res *= (1 - 2*int(b[target[i]]))\n",
    "                meas_res = meas_res * counts_b/shot\n",
    "                meas_ans += meas_res\n",
    "\n",
    "            charge_dens_meas += delta**ind * coef * meas_ans\n",
    "\n",
    "        charge_dens_list.append(charge_dens_meas)\n",
    "    \n",
    "    Qnp = sum(charge_dens_list)\n",
    "    ans_list.append(Qnp)\n",
    "    print('d={} {}'.format(step, Qnp))\n"
   ]
  },
  {
   "cell_type": "markdown",
   "id": "07a7b4d5",
   "metadata": {},
   "source": [
    "## Plot the answer"
   ]
  },
  {
   "cell_type": "code",
   "execution_count": 11,
   "id": "57c5689b",
   "metadata": {},
   "outputs": [
    {
     "name": "stdout",
     "output_type": "stream",
     "text": [
      "plot_Q2_6site_0727_0318_43.pdf\n"
     ]
    },
    {
     "data": {
      "image/png": "[encoded data removed]",
      "text/plain": [
       "<Figure size 288x288 with 1 Axes>"
      ]
     },
     "metadata": {
      "needs_background": "light"
     },
     "output_type": "display_data"
    }
   ],
   "source": [
    "## Plot the data\n",
    "plt.rc('text', usetex=True)\n",
    "plt.rc('text.latex', preamble=r'\\usepackage{amsmath}')\n",
    "\n",
    "colormap = plt.get_cmap(\"tab10\")\n",
    "markers = [\"o\",\"x\",\"s\",\"^\",\"+\",\"*\"]\n",
    "ylabel = r\"$\\langle Q_{}^+\\rangle$\".format(degree_of_charge_density)\n",
    "\n",
    "steps = range(trotter_step+1)\n",
    "vals = np.array(ans_list)\n",
    "\n",
    "plt.plot(steps, vals, color=colormap(0), marker=markers[0], linestyle=\"none\")\n",
    "\n",
    "if degree_of_charge_density == 1:\n",
    "    if initial_state == 'Neel':\n",
    "        plt.axhline(y=site_num*(-2+delta**2)/2, color='black', linestyle=':', linewidth=1)\n",
    "    elif initial_state == 'all_zero':\n",
    "        plt.axhline(y=(2+delta**2)*site_num/2, color='black', linestyle=':', linewidth=1)\n",
    "elif degree_of_charge_density == 2:\n",
    "    if initial_state == 'Neel':\n",
    "        plt.axhline(y=3*site_num*delta, color='black', linestyle=':', linewidth=1)\n",
    "    elif initial_state == 'all_zero':\n",
    "        # this value is for alpha=0.3\n",
    "        plt.axhline(y=-site_num*delta, color='black', linestyle=':', linewidth=1)\n",
    "\n",
    "if noise_model_type == 'damp':\n",
    "    plt.suptitle('Charge Q{} with site={}, shots={}k, damp={}, init={}'\\\n",
    "                 .format(degree_of_charge_density,site_num,shot//1000,amp_damp_rate,initial_state))\n",
    "elif noise_model_type == 'depo':\n",
    "    plt.suptitle('Charge Q{} with site={}, shots={}k, depo={}, init={}'\\\n",
    "                 .format(degree_of_charge_density,site_num,shot//1000,q2_depo_rate,initial_state))\n",
    "elif using_mocking_simulator == True:\n",
    "    plt.suptitle('Charge Q{} with site={}, shots={}k, {}, init={}'\\\n",
    "                 .format(degree_of_charge_density,site_num,shot//1000,name_mock_backend,initial_state))\n",
    "else:\n",
    "    plt.suptitle('Charge Q{} with site={}, shots={}k, Noiseless, init={}'\\\n",
    "                 .format(degree_of_charge_density,site_num,shot//1000,initial_state))\n",
    "\n",
    "plt.xlabel(\"Trotter step $d$\")\n",
    "plt.ylabel(ylabel)\n",
    "\n",
    "\n",
    "fig = plt.gcf()\n",
    "fig.set_size_inches(4,4)\n",
    "file_name = 'plot_Q{}_{}site_{}.pdf'.format(degree_of_charge_density,site_num,dt_now)\n",
    "print(file_name)\n",
    "plt.savefig(file_name)"
   ]
  },
  {
   "cell_type": "code",
   "execution_count": 12,
   "id": "efdf4374",
   "metadata": {},
   "outputs": [
    {
     "name": "stdout",
     "output_type": "stream",
     "text": [
      "0:12:42.620472\n"
     ]
    },
    {
     "data": {
      "text/plain": [
       "0"
      ]
     },
     "execution_count": 12,
     "metadata": {},
     "output_type": "execute_result"
    }
   ],
   "source": [
    "dt2=datetime.datetime.now()\n",
    "print(dt2-dt1)\n",
    "\n",
    "os.system(\"say 'finished'\")\n",
    "#os.system(\"/usr/bin/canberra-gtk-play --id='system-ready'\")"
   ]
  },
  {
   "cell_type": "code",
   "execution_count": null,
   "id": "18584dd1",
   "metadata": {},
   "outputs": [],
   "source": []
  }
 ],
 "metadata": {
  "kernelspec": {
   "display_name": "Python 3 (ipykernel)",
   "language": "python",
   "name": "python3"
  },
  "language_info": {
   "codemirror_mode": {
    "name": "ipython",
    "version": 3
   },
   "file_extension": ".py",
   "mimetype": "text/x-python",
   "name": "python",
   "nbconvert_exporter": "python",
   "pygments_lexer": "ipython3",
   "version": "3.8.9"
  }
 },
 "nbformat": 4,
 "nbformat_minor": 5
}
